{
 "cells": [
  {
   "cell_type": "code",
   "execution_count": 1,
   "id": "72a4dc3c-6b2e-4f1c-9f0f-1271f6ee1c76",
   "metadata": {},
   "outputs": [],
   "source": [
    "import os\n",
    "import pandas as pd\n",
    "from joblib import load"
   ]
  },
  {
   "cell_type": "code",
   "execution_count": 2,
   "id": "397f88f9-0e56-488a-9a36-a0857126e60f",
   "metadata": {},
   "outputs": [],
   "source": [
    "# Path to the model to use for prediction\n",
    "output_folder = \"results\""
   ]
  },
  {
   "cell_type": "code",
   "execution_count": 3,
   "id": "2f6c78ac-4c0e-4a5b-8250-402eeb4c5407",
   "metadata": {},
   "outputs": [],
   "source": [
    "file_prefixes = [\"feb_2021_to_aug_2021\", \"sep_2019_to_jan_2020\", \"sep_2021_to_jan_2022\"]"
   ]
  },
  {
   "cell_type": "code",
   "execution_count": 4,
   "id": "2ed96d7d-f217-4d2d-8408-94c27ee8ca2b",
   "metadata": {},
   "outputs": [
    {
     "name": "stderr",
     "output_type": "stream",
     "text": [
      "/home/victoria/Software/micromamba/envs/crop-classification/lib/python3.12/site-packages/sklearn/base.py:376: InconsistentVersionWarning: Trying to unpickle estimator DecisionTreeClassifier from version 1.3.0 when using version 1.4.1.post1. This might lead to breaking code or invalid results. Use at your own risk. For more info please refer to:\n",
      "https://scikit-learn.org/stable/model_persistence.html#security-maintainability-limitations\n",
      "  warnings.warn(\n",
      "/home/victoria/Software/micromamba/envs/crop-classification/lib/python3.12/site-packages/sklearn/base.py:376: InconsistentVersionWarning: Trying to unpickle estimator RandomForestClassifier from version 1.3.0 when using version 1.4.1.post1. This might lead to breaking code or invalid results. Use at your own risk. For more info please refer to:\n",
      "https://scikit-learn.org/stable/model_persistence.html#security-maintainability-limitations\n",
      "  warnings.warn(\n",
      "/home/victoria/Software/micromamba/envs/crop-classification/lib/python3.12/site-packages/sklearn/base.py:376: InconsistentVersionWarning: Trying to unpickle estimator DecisionTreeClassifier from version 1.3.0 when using version 1.4.1.post1. This might lead to breaking code or invalid results. Use at your own risk. For more info please refer to:\n",
      "https://scikit-learn.org/stable/model_persistence.html#security-maintainability-limitations\n",
      "  warnings.warn(\n",
      "/home/victoria/Software/micromamba/envs/crop-classification/lib/python3.12/site-packages/sklearn/base.py:376: InconsistentVersionWarning: Trying to unpickle estimator RandomForestClassifier from version 1.3.0 when using version 1.4.1.post1. This might lead to breaking code or invalid results. Use at your own risk. For more info please refer to:\n",
      "https://scikit-learn.org/stable/model_persistence.html#security-maintainability-limitations\n",
      "  warnings.warn(\n"
     ]
    },
    {
     "name": "stdout",
     "output_type": "stream",
     "text": [
      "CPU times: user 1.59 s, sys: 98.9 ms, total: 1.69 s\n",
      "Wall time: 589 ms\n"
     ]
    },
    {
     "name": "stderr",
     "output_type": "stream",
     "text": [
      "/home/victoria/Software/micromamba/envs/crop-classification/lib/python3.12/site-packages/sklearn/base.py:376: InconsistentVersionWarning: Trying to unpickle estimator DecisionTreeClassifier from version 1.3.0 when using version 1.4.1.post1. This might lead to breaking code or invalid results. Use at your own risk. For more info please refer to:\n",
      "https://scikit-learn.org/stable/model_persistence.html#security-maintainability-limitations\n",
      "  warnings.warn(\n",
      "/home/victoria/Software/micromamba/envs/crop-classification/lib/python3.12/site-packages/sklearn/base.py:376: InconsistentVersionWarning: Trying to unpickle estimator RandomForestClassifier from version 1.3.0 when using version 1.4.1.post1. This might lead to breaking code or invalid results. Use at your own risk. For more info please refer to:\n",
      "https://scikit-learn.org/stable/model_persistence.html#security-maintainability-limitations\n",
      "  warnings.warn(\n"
     ]
    }
   ],
   "source": [
    "%%time\n",
    "for file_prefix in file_prefixes:\n",
    "    model_input = pd.read_csv(os.path.join(output_folder, f\"{file_prefix}_training_features_training.csv\"))\n",
    "    feature_cols = model_input.columns[1:]\n",
    "    model = load(os.path.join(output_folder, f\"{file_prefix}_ml_model.joblib\"))\n",
    "    model_feature_importance = pd.DataFrame(data=dict(zip(feature_cols, model.feature_importances_)).items(), columns=[\"Feature\", \"Feature Importance\"])\n",
    "    model_feature_importance.sort_values(\"Feature Importance\", ascending=False, inplace=True)\n",
    "    model_feature_importance.reset_index(drop=True, inplace=True)\n",
    "    model_feature_importance.to_csv(os.path.join(output_folder, f\"{file_prefix}_feature_importance.csv\"))"
   ]
  },
  {
   "cell_type": "code",
   "execution_count": null,
   "id": "076f870c-8b7d-483f-a483-b12b198747e3",
   "metadata": {},
   "outputs": [],
   "source": []
  }
 ],
 "metadata": {
  "kernelspec": {
   "display_name": "Python 3 (ipykernel)",
   "language": "python",
   "name": "python3"
  },
  "language_info": {
   "codemirror_mode": {
    "name": "ipython",
    "version": 3
   },
   "file_extension": ".py",
   "mimetype": "text/x-python",
   "name": "python",
   "nbconvert_exporter": "python",
   "pygments_lexer": "ipython3",
   "version": "3.12.2"
  }
 },
 "nbformat": 4,
 "nbformat_minor": 5
}
