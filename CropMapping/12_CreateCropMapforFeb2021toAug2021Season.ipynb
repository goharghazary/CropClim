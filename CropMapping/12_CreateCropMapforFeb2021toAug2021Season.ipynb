{
 "cells": [
  {
   "cell_type": "markdown",
   "id": "1e974bb5-fc8f-4158-b381-4afcc01f928f",
   "metadata": {},
   "source": [
    "# Create crop map for February 2021 to August 2021 season"
   ]
  },
  {
   "cell_type": "code",
   "execution_count": 1,
   "id": "72bd58ff-373d-4ab5-a3a8-46bc008e1e03",
   "metadata": {},
   "outputs": [],
   "source": [
    "# Load required python packages\n",
    "import os\n",
    "\n",
    "import numpy as np\n",
    "import geopandas as gpd\n",
    "from deafrica_tools.classification import predict_xr\n",
    "from deafrica_tools.dask import create_local_dask_cluster\n",
    "from feature_collection import feature_layers\n",
    "from joblib import load\n",
    "from odc.geo.geom import Geometry\n",
    "from odc.geo.xr import write_cog, rasterize"
   ]
  },
  {
   "cell_type": "code",
   "execution_count": null,
   "id": "fd2429c1-e3e6-4416-aa19-41b3cb67e5e0",
   "metadata": {},
   "outputs": [],
   "source": [
    "# Create a dask cluster for running predictions.\n",
    "create_local_dask_cluster()"
   ]
  },
  {
   "cell_type": "code",
   "execution_count": 3,
   "id": "90c5890c-a13e-479b-8b54-c5eb40824e7d",
   "metadata": {},
   "outputs": [],
   "source": [
    "# Set the anlaysis parameters.\n",
    "\n",
    "# This parameters should be the same as those used in the Extract Training features notebook.\n",
    "output_crs = \"EPSG:6933\"\n",
    "resolution = (-10, 10)\n",
    "time_range = (\"2021-02\", \"2021-08\")\n",
    "dask_chunks = dict(x=3200,y=3200)\n",
    "\n",
    "# Path to the area of interest vector file\n",
    "aoi_file = \"data/aoi.geojson\"\n",
    "\n",
    "# Path to the model to use for prediction\n",
    "output_folder = \"results\"\n",
    "model_path = os.path.join(output_folder, \"feb_2021_to_aug_2021_ml_model.joblib\")\n",
    "\n",
    "# Value to use to replace nan when writing predictions to disk.\n",
    "no_data_value = -999"
   ]
  },
  {
   "cell_type": "code",
   "execution_count": 4,
   "id": "e2046d28-5500-4f7c-8559-9d017a06d827",
   "metadata": {},
   "outputs": [],
   "source": [
    "# Load the model\n",
    "model = load(model_path).set_params(n_jobs=1)"
   ]
  },
  {
   "cell_type": "code",
   "execution_count": 5,
   "id": "78d7a2d7-b089-44f3-9100-5bd8a4c55e6d",
   "metadata": {},
   "outputs": [],
   "source": [
    "# Load the area of interest\n",
    "aoi_gdf = gpd.read_file(aoi_file).to_crs(output_crs)\n",
    "aoi_geopolygon = Geometry(geom=aoi_gdf.iloc[0].geometry, crs=aoi_gdf.crs)"
   ]
  },
  {
   "cell_type": "code",
   "execution_count": 6,
   "id": "48fc3f57-8001-457b-9bea-3af92cd35e72",
   "metadata": {},
   "outputs": [],
   "source": [
    "# Create a datacube query object using our analysis parameters.\n",
    "query = dict(output_crs=output_crs, resolution=resolution, time=time_range, dask_chunks=dask_chunks, geopolygon=aoi_geopolygon)"
   ]
  },
  {
   "cell_type": "code",
   "execution_count": 7,
   "id": "be675700-418e-4fe5-a88b-708059bb04bd",
   "metadata": {},
   "outputs": [
    {
     "name": "stdout",
     "output_type": "stream",
     "text": [
      "CPU times: user 5.44 s, sys: 304 ms, total: 5.74 s\n",
      "Wall time: 5.58 s\n"
     ]
    }
   ],
   "source": [
    "%%time\n",
    "# Load the feature data.\n",
    "data = feature_layers(query)"
   ]
  },
  {
   "cell_type": "code",
   "execution_count": 8,
   "id": "9cdd4314-e7f1-4739-b8ec-4fdf7b5e9392",
   "metadata": {},
   "outputs": [
    {
     "name": "stdout",
     "output_type": "stream",
     "text": [
      "predicting...\n",
      "   probabilities...\n"
     ]
    },
    {
     "name": "stderr",
     "output_type": "stream",
     "text": [
      "/usr/local/lib/python3.10/dist-packages/rasterio/warp.py:344: NotGeoreferencedWarning: Dataset has no geotransform, gcps, or rpcs. The identity matrix will be returned.\n",
      "  _reproject(\n"
     ]
    },
    {
     "name": "stdout",
     "output_type": "stream",
     "text": [
      "CPU times: user 1min 57s, sys: 12.2 s, total: 2min 10s\n",
      "Wall time: 24min 18s\n"
     ]
    }
   ],
   "source": [
    "%%time\n",
    "# Predict using the imported model\n",
    "predicted = predict_xr(model=model, input_xr=data, proba=True, persist=False, clean=True, return_input=False).compute()"
   ]
  },
  {
   "cell_type": "code",
   "execution_count": 9,
   "id": "9239870e-a592-43cc-a547-37363d14358e",
   "metadata": {},
   "outputs": [],
   "source": [
    "# Mask the image using the area of interest.\n",
    "mask = rasterize(poly=aoi_geopolygon, how=predicted.odc.geobox)\n",
    "predicted_masked = predicted.where(mask)"
   ]
  },
  {
   "cell_type": "code",
   "execution_count": null,
   "id": "400250d6-daec-4739-8d39-1c98c1aca2cf",
   "metadata": {},
   "outputs": [],
   "source": [
    "predicted_masked.fillna(no_data_value)\n",
    "predicted_masked.attrs['nodata'] = no_data_value\n",
    "predicted_masked = predicted_masked.astype(np.int16)"
   ]
  },
  {
   "cell_type": "code",
   "execution_count": 10,
   "id": "717b19d7-0988-4a38-94e9-c6fefec04625",
   "metadata": {},
   "outputs": [
    {
     "data": {
      "text/plain": [
       "PosixPath('results/feb_2021_to_aug_2021_probabilities.tif')"
      ]
     },
     "execution_count": 10,
     "metadata": {},
     "output_type": "execute_result"
    }
   ],
   "source": [
    "# Write the prediction and probabilities images to disk.\n",
    "write_cog(geo_im=predicted_masked.Predictions, fname=os.path.join(output_folder, \"feb_2021_to_aug_2021_predictions.tif\"), nodata=no_data_value, overwrite=True)\n",
    "write_cog(geo_im=predicted_masked.Probabilities, fname=os.path.join(output_folder, \"feb_2021_to_aug_2021_probabilities.tif\"), nodata=no_data_value, overwrite=True)"
   ]
  }
 ],
 "metadata": {
  "kernelspec": {
   "display_name": "Python 3 (ipykernel)",
   "language": "python",
   "name": "python3"
  },
  "language_info": {
   "codemirror_mode": {
    "name": "ipython",
    "version": 3
   },
   "file_extension": ".py",
   "mimetype": "text/x-python",
   "name": "python",
   "nbconvert_exporter": "python",
   "pygments_lexer": "ipython3",
   "version": "3.10.6"
  }
 },
 "nbformat": 4,
 "nbformat_minor": 5
}
