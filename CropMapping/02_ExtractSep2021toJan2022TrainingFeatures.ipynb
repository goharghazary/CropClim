{
 "cells": [
  {
   "cell_type": "markdown",
   "id": "e53db31d-784c-42f2-8913-c536d7048730",
   "metadata": {},
   "source": [
    "# Extract the Training Features for the September 2021 to January 2022 season"
   ]
  },
  {
   "cell_type": "code",
   "execution_count": 1,
   "id": "d984b71d-e08d-4efd-89c5-d9122dbb1a69",
   "metadata": {},
   "outputs": [],
   "source": [
    "import os\n",
    "\n",
    "import geopandas as gpd\n",
    "import pandas as pd\n",
    "from deafrica_tools.classification import collect_training_data\n",
    "from feature_collection import feature_layers\n",
    "from odc.io.cgroups import get_cpu_quota\n",
    "from sklearn.model_selection import train_test_split"
   ]
  },
  {
   "cell_type": "code",
   "execution_count": 2,
   "id": "45c0ab52-5569-4f3c-8a01-cea0c466fb79",
   "metadata": {},
   "outputs": [],
   "source": [
    "# Define the analysis parameters.\n",
    "output_crs = \"EPSG:6933\"\n",
    "resolution = (-10, 10)\n",
    "time_range = (\"2021-09\", \"2022-01\")\n",
    "\n",
    "# Column in the training data containing the numeric class labels.\n",
    "field = \"label\"\n",
    "\n",
    "# Define the path to save the training features to.\n",
    "output_folder=\"results\"\n",
    "\n",
    "# Define the path to the training data.\n",
    "training_data_file = \"clean_data/sep_2021_to_jan_2022_training_data.geojson\"\n",
    "\n",
    "# fraction of the dataset will be set aside as the testing dataset.\n",
    "test_size = 0.20\n",
    "\n",
    "# random state\n",
    "random_state = 42"
   ]
  },
  {
   "cell_type": "code",
   "execution_count": 3,
   "id": "d3e0b45d-b8b2-4c1e-8851-9459ab7ed55e",
   "metadata": {},
   "outputs": [],
   "source": [
    "# Create the results directory if it does not exist.\n",
    "os.makedirs(output_folder, exist_ok=True)"
   ]
  },
  {
   "cell_type": "code",
   "execution_count": 4,
   "id": "570dd8a2-8bee-43a6-be7a-f3e212d161e1",
   "metadata": {},
   "outputs": [],
   "source": [
    "# Load the  training data\n",
    "training_data = gpd.read_file(training_data_file).to_crs(output_crs)"
   ]
  },
  {
   "cell_type": "code",
   "execution_count": 5,
   "id": "2316c746-58e6-450c-8f48-1ffaec9a986c",
   "metadata": {},
   "outputs": [
    {
     "data": {
      "text/plain": [
       "{'output_crs': 'EPSG:6933',\n",
       " 'resolution': (-10, 10),\n",
       " 'time': ('2021-09', '2022-01')}"
      ]
     },
     "execution_count": 5,
     "metadata": {},
     "output_type": "execute_result"
    }
   ],
   "source": [
    "# Create a datacube query object using our analysis parameters.\n",
    "query = dict(output_crs=output_crs, resolution=resolution, time=time_range)\n",
    "query"
   ]
  },
  {
   "cell_type": "code",
   "execution_count": 6,
   "id": "78e943cf-56c8-427a-a3ad-db45a9239b0d",
   "metadata": {},
   "outputs": [
    {
     "name": "stdout",
     "output_type": "stream",
     "text": [
      "ncpus = 15\n"
     ]
    }
   ],
   "source": [
    "# Set parallel mode on or off (set to False if testing a new feature extraction function).\n",
    "ncpus = round(get_cpu_quota())\n",
    "print(\"ncpus = \" + str(ncpus))"
   ]
  },
  {
   "cell_type": "code",
   "execution_count": 7,
   "id": "e19a59bf-98e5-425b-9844-e498283e5294",
   "metadata": {},
   "outputs": [
    {
     "name": "stdout",
     "output_type": "stream",
     "text": [
      "Collecting training data in parallel mode\n"
     ]
    },
    {
     "data": {
      "application/vnd.jupyter.widget-view+json": {
       "model_id": "f431c11ae6b74733a6cae9568321a74c",
       "version_major": 2,
       "version_minor": 0
      },
      "text/plain": [
       "  0%|          | 0/70 [00:00<?, ?it/s]"
      ]
     },
     "metadata": {},
     "output_type": "display_data"
    },
    {
     "name": "stderr",
     "output_type": "stream",
     "text": [
      "/usr/local/lib/python3.10/dist-packages/rasterio/warp.py:344: NotGeoreferencedWarning: Dataset has no geotransform, gcps, or rpcs. The identity matrix will be returned.\n",
      "  _reproject(\n",
      "/usr/local/lib/python3.10/dist-packages/rasterio/warp.py:344: NotGeoreferencedWarning: Dataset has no geotransform, gcps, or rpcs. The identity matrix will be returned.\n",
      "  _reproject(\n",
      "/usr/local/lib/python3.10/dist-packages/rasterio/warp.py:344: NotGeoreferencedWarning: Dataset has no geotransform, gcps, or rpcs. The identity matrix will be returned.\n",
      "  _reproject(\n",
      "/usr/local/lib/python3.10/dist-packages/rasterio/warp.py:344: NotGeoreferencedWarning: Dataset has no geotransform, gcps, or rpcs. The identity matrix will be returned.\n",
      "  _reproject(\n",
      "/usr/local/lib/python3.10/dist-packages/rasterio/warp.py:344: NotGeoreferencedWarning: Dataset has no geotransform, gcps, or rpcs. The identity matrix will be returned.\n",
      "  _reproject(\n",
      "/usr/local/lib/python3.10/dist-packages/rasterio/warp.py:344: NotGeoreferencedWarning: Dataset has no geotransform, gcps, or rpcs. The identity matrix will be returned.\n",
      "  _reproject(\n",
      "/usr/local/lib/python3.10/dist-packages/rasterio/warp.py:344: NotGeoreferencedWarning: Dataset has no geotransform, gcps, or rpcs. The identity matrix will be returned.\n",
      "  _reproject(\n",
      "/usr/local/lib/python3.10/dist-packages/rasterio/warp.py:344: NotGeoreferencedWarning: Dataset has no geotransform, gcps, or rpcs. The identity matrix will be returned.\n",
      "  _reproject(\n",
      "/usr/local/lib/python3.10/dist-packages/rasterio/warp.py:344: NotGeoreferencedWarning: Dataset has no geotransform, gcps, or rpcs. The identity matrix will be returned.\n",
      "  _reproject(\n",
      "/usr/local/lib/python3.10/dist-packages/rasterio/warp.py:344: NotGeoreferencedWarning: Dataset has no geotransform, gcps, or rpcs. The identity matrix will be returned.\n",
      "  _reproject(\n",
      "/usr/local/lib/python3.10/dist-packages/rasterio/warp.py:344: NotGeoreferencedWarning: Dataset has no geotransform, gcps, or rpcs. The identity matrix will be returned.\n",
      "  _reproject(\n",
      "/usr/local/lib/python3.10/dist-packages/rasterio/warp.py:344: NotGeoreferencedWarning: Dataset has no geotransform, gcps, or rpcs. The identity matrix will be returned.\n",
      "  _reproject(\n",
      "/usr/local/lib/python3.10/dist-packages/rasterio/warp.py:344: NotGeoreferencedWarning: Dataset has no geotransform, gcps, or rpcs. The identity matrix will be returned.\n",
      "  _reproject(\n",
      "/usr/local/lib/python3.10/dist-packages/rasterio/warp.py:344: NotGeoreferencedWarning: Dataset has no geotransform, gcps, or rpcs. The identity matrix will be returned.\n",
      "  _reproject(\n",
      "/usr/local/lib/python3.10/dist-packages/rasterio/warp.py:344: NotGeoreferencedWarning: Dataset has no geotransform, gcps, or rpcs. The identity matrix will be returned.\n",
      "  _reproject(\n",
      "/usr/local/lib/python3.10/dist-packages/rasterio/warp.py:344: NotGeoreferencedWarning: Dataset has no geotransform, gcps, or rpcs. The identity matrix will be returned.\n",
      "  _reproject(\n",
      "/usr/local/lib/python3.10/dist-packages/rasterio/warp.py:344: NotGeoreferencedWarning: Dataset has no geotransform, gcps, or rpcs. The identity matrix will be returned.\n",
      "  _reproject(\n",
      "/usr/local/lib/python3.10/dist-packages/rasterio/warp.py:344: NotGeoreferencedWarning: Dataset has no geotransform, gcps, or rpcs. The identity matrix will be returned.\n",
      "  _reproject(\n",
      "/usr/local/lib/python3.10/dist-packages/rasterio/warp.py:344: NotGeoreferencedWarning: Dataset has no geotransform, gcps, or rpcs. The identity matrix will be returned.\n",
      "  _reproject(\n",
      "/usr/local/lib/python3.10/dist-packages/rasterio/warp.py:344: NotGeoreferencedWarning: Dataset has no geotransform, gcps, or rpcs. The identity matrix will be returned.\n",
      "  _reproject(\n"
     ]
    },
    {
     "name": "stdout",
     "output_type": "stream",
     "text": [
      "Percentage of possible fails after run 1 = 0.0 %\n",
      "Removed 0 rows wth NaNs &/or Infs\n",
      "Output shape:  (2857, 91)\n",
      "CPU times: user 334 ms, sys: 146 ms, total: 480 ms\n",
      "Wall time: 2min 29s\n"
     ]
    }
   ],
   "source": [
    "%%time\n",
    "column_names, model_input = collect_training_data(\n",
    "                                    gdf=training_data,\n",
    "                                    dc_query=query,\n",
    "                                    ncpus=ncpus,\n",
    "                                    field=field,\n",
    "                                    zonal_stats=None,\n",
    "                                    feature_func=feature_layers\n",
    "                                    )"
   ]
  },
  {
   "cell_type": "code",
   "execution_count": 8,
   "id": "16e80ebf-fe2f-462e-9739-478a268de34c",
   "metadata": {},
   "outputs": [],
   "source": [
    "# Convert to dataframe.\n",
    "model_input_df = pd.DataFrame(model_input, columns=column_names)"
   ]
  },
  {
   "cell_type": "code",
   "execution_count": 9,
   "id": "26288945-7f28-40d1-90ca-237e112031b9",
   "metadata": {},
   "outputs": [],
   "source": [
    "label_col = model_input_df.columns[0]\n",
    "feature_cols = model_input_df.columns[1:]\n",
    "\n",
    "# Split the data into features and labels\n",
    "X = model_input_df[feature_cols].values\n",
    "y = model_input_df[label_col].values.ravel()"
   ]
  },
  {
   "cell_type": "code",
   "execution_count": 10,
   "id": "4ba5f803-d442-4a21-a690-07b9994d50de",
   "metadata": {},
   "outputs": [
    {
     "name": "stdout",
     "output_type": "stream",
     "text": [
      "# of training features collected: 90\n",
      "List of training features collected: Index(['vv_2021-09-30', 'vv_2021-10-31', 'vv_2021-11-30', 'vv_2021-12-31',\n",
      "       'vv_2022-01-31', 'vh_2021-09-30', 'vh_2021-10-31', 'vh_2021-11-30',\n",
      "       'vh_2021-12-31', 'vh_2022-01-31', 'red_2021-09-30', 'red_2021-10-31',\n",
      "       'red_2021-11-30', 'red_2021-12-31', 'red_2022-01-31',\n",
      "       'green_2021-09-30', 'green_2021-10-31', 'green_2021-11-30',\n",
      "       'green_2021-12-31', 'green_2022-01-31', 'blue_2021-09-30',\n",
      "       'blue_2021-10-31', 'blue_2021-11-30', 'blue_2021-12-31',\n",
      "       'blue_2022-01-31', 'red_edge_1_2021-09-30', 'red_edge_1_2021-10-31',\n",
      "       'red_edge_1_2021-11-30', 'red_edge_1_2021-12-31',\n",
      "       'red_edge_1_2022-01-31', 'red_edge_2_2021-09-30',\n",
      "       'red_edge_2_2021-10-31', 'red_edge_2_2021-11-30',\n",
      "       'red_edge_2_2021-12-31', 'red_edge_2_2022-01-31',\n",
      "       'red_edge_3_2021-09-30', 'red_edge_3_2021-10-31',\n",
      "       'red_edge_3_2021-11-30', 'red_edge_3_2021-12-31',\n",
      "       'red_edge_3_2022-01-31', 'nir_2021-09-30', 'nir_2021-10-31',\n",
      "       'nir_2021-11-30', 'nir_2021-12-31', 'nir_2022-01-31',\n",
      "       'nir_narrow_2021-09-30', 'nir_narrow_2021-10-31',\n",
      "       'nir_narrow_2021-11-30', 'nir_narrow_2021-12-31',\n",
      "       'nir_narrow_2022-01-31', 'swir_1_2021-09-30', 'swir_1_2021-10-31',\n",
      "       'swir_1_2021-11-30', 'swir_1_2021-12-31', 'swir_1_2022-01-31',\n",
      "       'swir_2_2021-09-30', 'swir_2_2021-10-31', 'swir_2_2021-11-30',\n",
      "       'swir_2_2021-12-31', 'swir_2_2022-01-31', 'EVI_2021-09-30',\n",
      "       'EVI_2021-10-31', 'EVI_2021-11-30', 'EVI_2021-12-31', 'EVI_2022-01-31',\n",
      "       'SAVI_2021-09-30', 'SAVI_2021-10-31', 'SAVI_2021-11-30',\n",
      "       'SAVI_2021-12-31', 'SAVI_2022-01-31', 'MSAVI_2021-09-30',\n",
      "       'MSAVI_2021-10-31', 'MSAVI_2021-11-30', 'MSAVI_2021-12-31',\n",
      "       'MSAVI_2022-01-31', 'LAI_2021-09-30', 'LAI_2021-10-31',\n",
      "       'LAI_2021-11-30', 'LAI_2021-12-31', 'LAI_2022-01-31', 'NDVI_2021-09-30',\n",
      "       'NDVI_2021-10-31', 'NDVI_2021-11-30', 'NDVI_2021-12-31',\n",
      "       'NDVI_2022-01-31', 'CI_2021-09-30', 'CI_2021-10-31', 'CI_2021-11-30',\n",
      "       'CI_2021-12-31', 'CI_2022-01-31'],\n",
      "      dtype='object')\n"
     ]
    }
   ],
   "source": [
    "# Print the list of features collected\n",
    "print(\"# of training features collected:\", len(feature_cols))\n",
    "print(\"List of training features collected:\", feature_cols)"
   ]
  },
  {
   "cell_type": "code",
   "execution_count": 11,
   "id": "6f721fb7-4a62-45c6-8000-d249c6acf6ec",
   "metadata": {},
   "outputs": [],
   "source": [
    "# Split the data into the training and validation dataset.\n",
    "X_train, X_test, y_train, y_test= train_test_split(X, y, stratify=y, test_size=test_size, random_state=random_state)"
   ]
  },
  {
   "cell_type": "code",
   "execution_count": 12,
   "id": "164db9d4-9760-4f4c-baa2-476f780a2f06",
   "metadata": {},
   "outputs": [],
   "source": [
    "# Save the training dataset to use for training the model.\n",
    "training_df = pd.DataFrame(data=X_train, columns=feature_cols)\n",
    "training_df[label_col] = y_train\n",
    "training_df = training_df[model_input_df.columns]\n",
    "training_df.to_csv(os.path.join(output_folder, 'sep_2021_to_jan_2022_training_features_training.csv'), index=False)\n"
   ]
  },
  {
   "cell_type": "code",
   "execution_count": 13,
   "id": "de059b5a-36d4-4d24-a447-2cdee2513c26",
   "metadata": {},
   "outputs": [],
   "source": [
    "# Save the validation dataset to use for accuracy assessment.\n",
    "validation_df = pd.DataFrame(data=X_test, columns=feature_cols)\n",
    "validation_df[label_col] = y_test\n",
    "validation_df = validation_df[model_input_df.columns]\n",
    "validation_df.to_csv(os.path.join(output_folder, 'sep_2021_to_jan_2022_training_features_validation.csv'), index=False)"
   ]
  },
  {
   "cell_type": "code",
   "execution_count": 14,
   "id": "566c14b4-dfb5-4bf5-9c7c-d2fa9c107741",
   "metadata": {},
   "outputs": [
    {
     "data": {
      "text/plain": [
       "2285"
      ]
     },
     "execution_count": 14,
     "metadata": {},
     "output_type": "execute_result"
    }
   ],
   "source": [
    "len(training_df)\n"
   ]
  },
  {
   "cell_type": "code",
   "execution_count": 15,
   "id": "8c23f920-305e-4cd9-9035-18eca1b7a692",
   "metadata": {},
   "outputs": [
    {
     "data": {
      "text/plain": [
       "572"
      ]
     },
     "execution_count": 15,
     "metadata": {},
     "output_type": "execute_result"
    }
   ],
   "source": [
    "len(validation_df)\n"
   ]
  }
 ],
 "metadata": {
  "kernelspec": {
   "display_name": "Python 3 (ipykernel)",
   "language": "python",
   "name": "python3"
  },
  "language_info": {
   "codemirror_mode": {
    "name": "ipython",
    "version": 3
   },
   "file_extension": ".py",
   "mimetype": "text/x-python",
   "name": "python",
   "nbconvert_exporter": "python",
   "pygments_lexer": "ipython3",
   "version": "3.10.12"
  }
 },
 "nbformat": 4,
 "nbformat_minor": 5
}
