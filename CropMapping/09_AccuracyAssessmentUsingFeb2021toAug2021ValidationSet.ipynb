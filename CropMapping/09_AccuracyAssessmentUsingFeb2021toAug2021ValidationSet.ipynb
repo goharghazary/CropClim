{
 "cells": [
  {
   "cell_type": "markdown",
   "id": "1498b23e-20b2-4721-aa35-e5f1db624d38",
   "metadata": {
    "tags": []
   },
   "source": [
    "# Accuracy assessment using Feb 2021 to Aug 2021 validation dataset"
   ]
  },
  {
   "cell_type": "code",
   "execution_count": 1,
   "id": "0f3da5ff-8e9c-40dc-802e-fe6e09f319e4",
   "metadata": {},
   "outputs": [],
   "source": [
    "# Load the required python packages\n",
    "import json\n",
    "import os\n",
    "from pprint import pprint\n",
    "\n",
    "import matplotlib.pyplot as plt\n",
    "import pandas as pd\n",
    "from joblib import load\n",
    "from odc.io.cgroups import get_cpu_quota\n",
    "from sklearn.metrics import (\n",
    "    ConfusionMatrixDisplay,\n",
    "    accuracy_score,\n",
    "    classification_report,\n",
    "    cohen_kappa_score,\n",
    "    confusion_matrix,\n",
    "    precision_score,\n",
    "    recall_score,\n",
    ")\n",
    "from utils import get_key"
   ]
  },
  {
   "cell_type": "code",
   "execution_count": 2,
   "id": "63749bfa-510d-4fdd-a3ef-e72ee9e1e3ab",
   "metadata": {},
   "outputs": [],
   "source": [
    "# Set the anlaysis parameters.\n",
    "output_folder = \"results\"\n",
    "model_path = os.path.join(output_folder, \"feb_2021_to_aug_2021_ml_model.joblib\")\n",
    "\n",
    "class_labels_path = \"clean_data/class_labels.json\"\n",
    "\n",
    "# CSV file containing the training features.\n",
    "model_input_path = os.path.join(\n",
    "    output_folder, \"feb_2021_to_aug_2021_training_features_validation.csv\"\n",
    ")"
   ]
  },
  {
   "cell_type": "code",
   "execution_count": 3,
   "id": "c763789a-9b14-447c-8fec-71a4b99a0cad",
   "metadata": {},
   "outputs": [
    {
     "name": "stdout",
     "output_type": "stream",
     "text": [
      "ncpus = 15\n"
     ]
    }
   ],
   "source": [
    "# Get the number of cpus available\n",
    "ncpus = round(get_cpu_quota())\n",
    "print(\"ncpus = \" + str(ncpus))"
   ]
  },
  {
   "cell_type": "code",
   "execution_count": 4,
   "id": "2bd2ce98-43d1-4147-8c22-edd25d9f8021",
   "metadata": {},
   "outputs": [],
   "source": [
    "# Load the model\n",
    "model = load(model_path).set_params(n_jobs=1)"
   ]
  },
  {
   "cell_type": "code",
   "execution_count": 5,
   "id": "e3d0bee5-df1f-49dd-834b-e3c5befe7cd9",
   "metadata": {},
   "outputs": [
    {
     "data": {
      "text/plain": [
       "{'Cassava': 0,\n",
       " 'Common bean': 1,\n",
       " 'Maize': 2,\n",
       " 'Maize/Mixed': 3,\n",
       " 'Soybean': 4,\n",
       " 'Sugarcane': 5}"
      ]
     },
     "execution_count": 5,
     "metadata": {},
     "output_type": "execute_result"
    }
   ],
   "source": [
    "# Read the class label dictionary\n",
    "with open(class_labels_path, \"r\") as json_file:\n",
    "    class_labels_dict = json.load(json_file)\n",
    "class_labels_dict"
   ]
  },
  {
   "cell_type": "code",
   "execution_count": 6,
   "id": "871292c0-78d0-4950-9a84-d51bacf1c3d4",
   "metadata": {},
   "outputs": [],
   "source": [
    "# Load the training data\n",
    "model_input_df = pd.read_csv(model_input_path)\n",
    "label_col = model_input_df.columns[0]\n",
    "feature_cols = model_input_df.columns[1:]\n",
    "\n",
    "# Split the data into features and labels\n",
    "X = model_input_df[feature_cols].values\n",
    "y = model_input_df[label_col].values.ravel()"
   ]
  },
  {
   "cell_type": "code",
   "execution_count": 7,
   "id": "018f7185-3a0e-4494-9f98-8e0f4b81528e",
   "metadata": {},
   "outputs": [
    {
     "data": {
      "text/plain": [
       "{'Cassava': 0,\n",
       " 'Common bean': 1,\n",
       " 'Maize': 2,\n",
       " 'Maize/Mixed': 3,\n",
       " 'Soybean': 4,\n",
       " 'Sugarcane': 5}"
      ]
     },
     "execution_count": 7,
     "metadata": {},
     "output_type": "execute_result"
    }
   ],
   "source": [
    "# Read the class label dictionary\n",
    "with open(class_labels_path, \"r\") as json_file:\n",
    "    class_labels_dict = json.load(json_file)\n",
    "class_labels_dict"
   ]
  },
  {
   "cell_type": "code",
   "execution_count": 8,
   "id": "cb875309-7c2e-4570-a6d3-3649ae3656d5",
   "metadata": {},
   "outputs": [],
   "source": [
    "# Get the class labels and names.\n",
    "class_labels = model.classes_\n",
    "class_target_names = [get_key(i, class_labels_dict) for i in class_labels]"
   ]
  },
  {
   "cell_type": "code",
   "execution_count": 9,
   "id": "56247cfc-74d0-4867-a0a6-03e925f7d288",
   "metadata": {},
   "outputs": [],
   "source": [
    "# Classify the testing dataset training features using the trained classifier.\n",
    "y_pred = model.predict(X)"
   ]
  },
  {
   "cell_type": "code",
   "execution_count": 10,
   "id": "3fd44fdd-2884-430d-8c60-a7a3f1a4b5cc",
   "metadata": {},
   "outputs": [],
   "source": [
    "accuracy_metrics = {}"
   ]
  },
  {
   "cell_type": "code",
   "execution_count": 11,
   "id": "e4b3fda3-0217-4753-99fe-7f77e092d1b4",
   "metadata": {},
   "outputs": [],
   "source": [
    "# Get Cohen's kappa score\n",
    "kappa_score = cohen_kappa_score(y1=y, y2=y_pred)\n",
    "accuracy_metrics[\"Kappa Score\"] = kappa_score"
   ]
  },
  {
   "cell_type": "code",
   "execution_count": 12,
   "id": "57865229-f5b1-40e9-b7db-81928ba73fc6",
   "metadata": {},
   "outputs": [],
   "source": [
    "overall_accuracy = accuracy_score(y_true=y, y_pred=y_pred)\n",
    "accuracy_metrics[\"Overall Accuracy\"] = overall_accuracy"
   ]
  },
  {
   "cell_type": "code",
   "execution_count": 13,
   "id": "b5ea72c2-e33a-4aef-bdc0-b09090a5e022",
   "metadata": {},
   "outputs": [],
   "source": [
    "precision = precision_score(\n",
    "    y_true=y, y_pred=y_pred, labels=class_labels, average=None\n",
    ")\n",
    "producers_accuracy = dict(\n",
    "    zip([f\"Producer's Accuracy for {name}\" for name in class_target_names], precision)\n",
    ")\n",
    "accuracy_metrics.update(producers_accuracy)"
   ]
  },
  {
   "cell_type": "code",
   "execution_count": 14,
   "id": "9c4f98f2-aee0-40e3-9e4d-4ac1686806f1",
   "metadata": {},
   "outputs": [],
   "source": [
    "recall = recall_score(y_true=y, y_pred=y_pred, labels=class_labels, average=None)\n",
    "users_accuracy = dict(\n",
    "    zip([f\"User's Accuracy for {name}\" for name in class_target_names], recall)\n",
    ")\n",
    "accuracy_metrics.update(users_accuracy)"
   ]
  },
  {
   "cell_type": "code",
   "execution_count": 15,
   "id": "22fbe2d5-a22c-425e-9311-6c7761170846",
   "metadata": {},
   "outputs": [
    {
     "name": "stdout",
     "output_type": "stream",
     "text": [
      "{'Kappa Score': 0.9663777839903085,\n",
      " 'Overall Accuracy': 0.9866962305986696,\n",
      " \"Producer's Accuracy for Maize\": 0.9908675799086758,\n",
      " \"Producer's Accuracy for Maize/Mixed\": 0.9755102040816327,\n",
      " \"User's Accuracy for Maize\": 0.9908675799086758,\n",
      " \"User's Accuracy for Maize/Mixed\": 0.9755102040816327}\n"
     ]
    }
   ],
   "source": [
    "pprint(accuracy_metrics)"
   ]
  },
  {
   "cell_type": "code",
   "execution_count": 16,
   "id": "c1ad6d70-652d-423f-b880-7d89ed4aed7b",
   "metadata": {},
   "outputs": [
    {
     "name": "stdout",
     "output_type": "stream",
     "text": [
      "Producer's Accuracy is the precision score\n",
      "User's Accuracy is the recall score\n",
      "              precision    recall  f1-score   support\n",
      "\n",
      "       Maize       0.99      0.99      0.99       657\n",
      " Maize/Mixed       0.98      0.98      0.98       245\n",
      "\n",
      "    accuracy                           0.99       902\n",
      "   macro avg       0.98      0.98      0.98       902\n",
      "weighted avg       0.99      0.99      0.99       902\n",
      "\n"
     ]
    }
   ],
   "source": [
    "print(\"Producer's Accuracy is the precision score\")\n",
    "print(\"User's Accuracy is the recall score\")\n",
    "# Generate the classificaiton report\n",
    "report = classification_report(\n",
    "    y_true=y, y_pred=y_pred, labels=class_labels, target_names=class_target_names\n",
    ")\n",
    "print(report)"
   ]
  },
  {
   "cell_type": "code",
   "execution_count": 17,
   "id": "4c843762-8bef-4d9f-aaa4-901ea26e8865",
   "metadata": {},
   "outputs": [
    {
     "data": {
      "image/png": "[encoded data removed]",
      "text/plain": [
       "<Figure size 640x480 with 2 Axes>"
      ]
     },
     "metadata": {},
     "output_type": "display_data"
    }
   ],
   "source": [
    "# Display the confusion maxtrix\n",
    "cm = confusion_matrix(y_true=y, y_pred=y_pred, labels=class_labels)\n",
    "disp = ConfusionMatrixDisplay(confusion_matrix=cm, display_labels=class_target_names)\n",
    "\n",
    "fig, ax = plt.subplots()\n",
    "disp.plot(ax=ax)\n",
    "plt.xticks(rotation=45)# Change xtick labels positions.\n",
    "plt.show()"
   ]
  }
 ],
 "metadata": {
  "kernelspec": {
   "display_name": "Python 3 (ipykernel)",
   "language": "python",
   "name": "python3"
  },
  "language_info": {
   "codemirror_mode": {
    "name": "ipython",
    "version": 3
   },
   "file_extension": ".py",
   "mimetype": "text/x-python",
   "name": "python",
   "nbconvert_exporter": "python",
   "pygments_lexer": "ipython3",
   "version": "3.10.12"
  }
 },
 "nbformat": 4,
 "nbformat_minor": 5
}
